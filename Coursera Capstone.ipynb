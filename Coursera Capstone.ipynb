{
    "cells": [
        {
            "cell_type": "markdown",
            "metadata": {
                "collapsed": true
            },
            "source": "# Coursera Capstone Project"
        },
        {
            "cell_type": "markdown",
            "metadata": {},
            "source": "## Introduction"
        },
        {
            "cell_type": "markdown",
            "metadata": {},
            "source": "This project will investigate the correlation between COVID-19 cases and the types of venues within neighbourhoods in Toronto. \n\nThis is a topical issue, of pressing concern to the inhabitants of Toronto directly, as well as those living in urban centres around the world.\n\nAn understanding of which types of venue pose the greatest risk to people could influence a diverse set of behaviours, such as real estate markets, consumer activity and even governmental social policy with regard to health."
        },
        {
            "cell_type": "markdown",
            "metadata": {},
            "source": "## Data"
        },
        {
            "cell_type": "markdown",
            "metadata": {},
            "source": "The data being used for this analysis is drawn from a number of sources:\n    1. The Toronto postal codes and neighbourhood names from the Canada Postal Service ('https://en.wikipedia.org/wiki/List_of_postal_codes_of_Canada:_M')\n    2. The geocoordinates for each Toronto neighbourhood from Coursera ('http://cocl.us/Geospatial_data')\n    3. The number of cases per neighbourhood from the City of Toronto website ('https://drive.google.com/file/d/1jzH64LvFQ-UsDibXO0MOtvjbL2CvnV3N/view?usp=sharing')\n    4. The map of Toronto from Folium\n    5. The information about the venues within each Toronto neighbourhood from Foursquare\n    \nThe venue information for each neighbourhood will be cross-referenced with the number of COVID-19 cases.    \n1. Cluster the Toronto neighbourhoods based on venues.\n2. Determine average levels of outbreak within each cluster.\n2. Apply linear regression to determine the relationship between venues and levels of outbreak."
        },
        {
            "cell_type": "code",
            "execution_count": null,
            "metadata": {},
            "outputs": [],
            "source": ""
        }
    ],
    "metadata": {
        "kernelspec": {
            "display_name": "Python 3.6",
            "language": "python",
            "name": "python3"
        },
        "language_info": {
            "codemirror_mode": {
                "name": "ipython",
                "version": 3
            },
            "file_extension": ".py",
            "mimetype": "text/x-python",
            "name": "python",
            "nbconvert_exporter": "python",
            "pygments_lexer": "ipython3",
            "version": "3.6.9"
        }
    },
    "nbformat": 4,
    "nbformat_minor": 1
}